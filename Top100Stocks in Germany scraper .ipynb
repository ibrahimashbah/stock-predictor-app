{
 "cells": [
  {
   "cell_type": "code",
   "execution_count": 11,
   "id": "47ecb651",
   "metadata": {
    "scrolled": false
   },
   "outputs": [],
   "source": [
    "import requests \n",
    "import pandas as pd\n",
    "from bs4 import BeautifulSoup"
   ]
  },
  {
   "cell_type": "code",
   "execution_count": 12,
   "id": "2c56012b",
   "metadata": {},
   "outputs": [],
   "source": [
    "# creating list for company ticker\n",
    "company_ticker=[]"
   ]
  },
  {
   "cell_type": "code",
   "execution_count": 13,
   "id": "602346df",
   "metadata": {},
   "outputs": [],
   "source": [
    "URL = 'https://companiesmarketcap.com/germany/largest-companies-in-germany-by-market-cap/'\n",
    "page = requests.get(URL)\n",
    "soup = BeautifulSoup(page.text, 'html.parser')\n",
    "all_rows = soup.find_all('td', attrs={'class':'name-td'})"
   ]
  },
  {
   "cell_type": "code",
   "execution_count": 14,
   "id": "d16ef6fa",
   "metadata": {},
   "outputs": [],
   "source": [
    "%%capture cap --no-stderr\n",
    "for i in all_rows:\n",
    "    row = i.find_all('div')\n",
    "    print(row[3].text.strip())"
   ]
  },
  {
   "cell_type": "code",
   "execution_count": 15,
   "id": "81aa6db9",
   "metadata": {},
   "outputs": [],
   "source": [
    "with open('output.txt', 'w') as f:\n",
    "    f.write(cap.stdout)"
   ]
  }
 ],
 "metadata": {
  "kernelspec": {
   "display_name": "Python 3 (ipykernel)",
   "language": "python",
   "name": "python3"
  },
  "language_info": {
   "codemirror_mode": {
    "name": "ipython",
    "version": 3
   },
   "file_extension": ".py",
   "mimetype": "text/x-python",
   "name": "python",
   "nbconvert_exporter": "python",
   "pygments_lexer": "ipython3",
   "version": "3.8.12"
  }
 },
 "nbformat": 4,
 "nbformat_minor": 5
}
